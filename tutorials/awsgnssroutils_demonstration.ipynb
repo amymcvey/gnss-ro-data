{
 "cells": [
  {
   "cell_type": "markdown",
   "id": "190c095c",
   "metadata": {},
   "source": [
    "# Demonstration of awsgnssroutils.database\n",
    "\n",
    "Authors: Amy McVey (amcvey@aer.com) and Stephen Leroy (sleroy@aer.com) \\\n",
    "Version: 1.2.1 \\\n",
    "Date: 26 September 2023\n",
    "\n",
    "This notebook demonstrates the functionality of the awsgnssroutils.database \n",
    "module, which contains utilities to query the AWS Registry of Open Data repository\n",
    "of GNSS radio occultation data. It does so using database files posted in the\n",
    "AWS repository. Specifically, the module defines two classes: *RODatabaseClient* and \n",
    "*OccList*. The former creates a gateway to the metadata on GNSS radio occultation \n",
    "(RO) soundings hosted in the AWS Registry of Open Data and enables a local mirror \n",
    "repository of that metadata if one is desired. The latter creates instances of \n",
    "lists of RO soundings and their associated metadata and offers several methods to \n",
    "manipulate those metadata and even download RO data files. \n",
    "\n",
    "\n",
    "## Functionality\n",
    "This module defines two classes: RODatabaseClient and OccList. The first \n",
    "creates a portal to a database of RO metadata, and the second is an instance \n",
    "of a list of radio occultations (ROs). Each are described below. It is mandatory \n",
    "that a new user initialize a repository that tracks the history of prior searches. \n",
    "Doing so is necessary to accelerate the querying of RO metadata. **The user will \n",
    "encounter long search times the first time a segment of the database is queries. \n",
    "With the local repository of previous searches, subsequent queries along the same \n",
    "segment will be much shorter.** \n"
   ]
  },
  {
   "cell_type": "markdown",
   "id": "00f78994",
   "metadata": {},
   "source": [
    "### Initialization\n",
    "\n",
    "To simplify the user's life, define your defaults using the setdefaults function. You will be able to define default paths for storing occultation metadata, RO data files, and the AWS RO processing version. The local storage of metadata will enable greatly accelerated queries. "
   ]
  },
  {
   "cell_type": "code",
   "execution_count": null,
   "id": "234fe2bb",
   "metadata": {},
   "outputs": [],
   "source": [
    "from awsgnssroutils.database import setdefaults\n",
    "import os\n",
    "\n",
    "HOME = os.path.expanduser(\"~\")\n",
    "repository_directory = os.path.join( HOME, \"local/rodatabase\" )\n",
    "rodata_root_directory = os.path.join( HOME, \"Data/rodata\" )\n",
    "\n",
    "setdefaults( repository=repository_directory, rodata=rodata_root_directory, version=\"v1.1\" )"
   ]
  },
  {
   "cell_type": "markdown",
   "id": "15d210e9",
   "metadata": {},
   "source": [
    "The *repository_directory* is a path to the directory where a collection of json \n",
    "files will be downloaded and stored. It must be an absolute path. The \n",
    "*rodata_root_directory* is the default root directory for RO data downloads. It \n",
    "is optional, but it must also be an absolute path if it is specified. \n",
    "\n",
    "*Be certain you have enough storage available in your ~/local/rodatabase \n",
    "file space. RO metadata requires ~50 GB of storage. If you don't \n",
    "have enough space allocated, edit the above command to point toward a \n",
    "repository directory on a scratch volume, which typically has plenty of \n",
    "storage available for all RO metadata.*\n",
    "\n",
    "You can prepopulate all RO metadata using the awsgnssroutils.databaes.populate \n",
    "function. Pre-populating is unnecessary, but it will make all queries run very \n",
    "efficiently regardless of search history. Pre-populating should only be done \n",
    "intermittently, at a cadence no more frequent than monthly. If building a metadata \n",
    "database from scratch, pre-populating can take ~10 minutes or more. "
   ]
  },
  {
   "cell_type": "code",
   "execution_count": null,
   "id": "a2ef8d99",
   "metadata": {},
   "outputs": [],
   "source": [
    "from awsgnssroutils.database import populate\n",
    "populate()"
   ]
  },
  {
   "cell_type": "markdown",
   "id": "9d1cc041",
   "metadata": {},
   "source": [
    "### RODatabaseClient: \n",
    "Create an instance of a portal to the metadata database of all RO data in the AWS \n",
    "Registry of Open Data. For example,"
   ]
  },
  {
   "cell_type": "code",
   "execution_count": null,
   "id": "0ab67199",
   "metadata": {},
   "outputs": [],
   "source": [
    "from awsgnssroutils.database import RODatabaseClient\n",
    "\n",
    "rodb = RODatabaseClient( update=False )\n",
    "print( rodb )"
   ]
  },
  {
   "cell_type": "markdown",
   "id": "158bc815",
   "metadata": {},
   "source": [
    "creates a database interface with a local repository of the \n",
    "metadata in the directory defined at initialization. The local repository \n",
    "will be used for querying RO metadata: future queries first consult the \n",
    "local repository, and if the metadata does not already exist in the local \n",
    "repository, the metadata is retrieved and copied into the local repository. \n",
    "Creating and accessing a local repository is far more efficient than \n",
    "not creating a local repository. First queries of metadata will still be \n",
    "slow, but subsequent queries of the same metadata are made over an order of \n",
    "magnitude faster by reading from the local file system&mdash;the local \n",
    "repository&mdash;rather than by reading directly from the AWS S3 bucket. \n",
    "\n",
    "By specifying **update** as True, the local repository is updated at the \n",
    "instantiation of rodb. The update compares metadata in the repository \n",
    "of metadata on the local file system to the same metadata files in the\n",
    "AWS Registry of Open Data and updates the local metadata as needed. \n",
    "The update does not add any \"new\" metadata files to the local repository. \n",
    "(The default is False.) An update can be computationally expensive, however. \n",
    "We recommend executing an update=True instantiations of RODatabaseClient \n",
    "only periodically. The contents of the metadatabase files in the AWS \n",
    "Registry of Open Data rarely change, and so it should not be necessary to \n",
    "update the local mirror at every instantiation of RODatabaseClient. \n",
    "\n",
    "There are two methods to create a list of occultations through the \n",
    "database client. One is to perform an inquiry in which missions and/or \n",
    "a date-time range is specified, and a second is to restore a previously \n",
    "saved list of RO data. "
   ]
  },
  {
   "cell_type": "code",
   "execution_count": null,
   "id": "e59b4d57",
   "metadata": {},
   "outputs": [],
   "source": [
    "occlist = rodb.query( missions=\"champ\" )\n",
    "print( occlist )"
   ]
  },
  {
   "cell_type": "markdown",
   "id": "d8098392",
   "metadata": {},
   "source": [
    "generates an OccList containing metadata on all CHAMP RO data. The inquiry \n",
    "can be performed instead over a range in time. The date-time fields are \n",
    "always ISO format times..."
   ]
  },
  {
   "cell_type": "code",
   "execution_count": null,
   "id": "f106b53c",
   "metadata": {},
   "outputs": [],
   "source": [
    "occlist = rodb.query( datetimerange=(\"2019-06-01\",\"2019-07-01\") )\n",
    "print( occlist )"
   ]
  },
  {
   "cell_type": "markdown",
   "id": "68e1da9f",
   "metadata": {},
   "source": [
    "creates an OccList of metadata for all RO soundings in the month of June, \n",
    "2019, regardless of mission. \n",
    "\n",
    "The other option to create an OccList is by restoring a previously \n",
    "saved OccList: "
   ]
  },
  {
   "cell_type": "code",
   "execution_count": null,
   "id": "ff4a93b5",
   "metadata": {},
   "outputs": [],
   "source": [
    "savefile = \"old_occlist.json\"\n",
    "occlist.save( savefile )\n",
    "occlist1 = rodb.restore( savefile )\n",
    "print( occlist1 )"
   ]
  },
  {
   "cell_type": "markdown",
   "id": "0411588a",
   "metadata": {},
   "source": [
    "in which the old OccList was saved in a JSON format file. \n",
    "\n",
    "### OccList:\n",
    "\n",
    "An instance of the class OccList is contains the metadata on a list of RO \n",
    "soundings along with pointers to the RO data files in the AWS Registry of \n",
    "Open Data S3 bucket. AWS functionality is completely embedded in the \n",
    "methods of the OccList class. Those methods include the ability to \n",
    "subset/filter the list according to geolocation and time, \n",
    "GNSS transmitter/constellation, GNSS receiver, whether it is a rising or a \n",
    "setting occultation, etc. It also includes the ability to combine \n",
    "instances of OccList, save the OccList to a JSON format file for future \n",
    "restoration by RODatabaseClient.restore, and even download RO data files. \n",
    "\n",
    "In order to filter an OccList previously generated by \n",
    "RODatabaseClient.query or RODatabaseClient.restore, use the OccList.filter \n",
    "method: "
   ]
  },
  {
   "cell_type": "code",
   "execution_count": null,
   "id": "bc4651f4",
   "metadata": {},
   "outputs": [],
   "source": [
    "champoccs = rodb.query( missions=\"champ\" )\n",
    "print( champoccs )\n",
    "champoccs2003 = champoccs.filter( datetimerange=(\"2003-01-01\",\"2004-01-01\") )\n",
    "print( champoccs2003 )"
   ]
  },
  {
   "cell_type": "markdown",
   "id": "4b633783",
   "metadata": {},
   "source": [
    "illustrates how to apply a filter in date-time, retaining all CHAMP RO \n",
    "metadata for the year 2003. Filtering can be done in longitude and latitude \n",
    "as well: "
   ]
  },
  {
   "cell_type": "code",
   "execution_count": null,
   "id": "2920e78f",
   "metadata": {},
   "outputs": [],
   "source": [
    "champoccs_US = champoccs.filter( longituderange=(-110,-70), latituderange=(25,55) )\n",
    "print( champoccs_US )"
   ]
  },
  {
   "cell_type": "markdown",
   "id": "17b82519",
   "metadata": {},
   "source": [
    "and even those can be subset by local time (a.k.a. solar time): "
   ]
  },
  {
   "cell_type": "code",
   "execution_count": null,
   "id": "8a481259",
   "metadata": {},
   "outputs": [],
   "source": [
    "champoccs_US_midnight = champoccs_US.filter( localtimerange=(22,2) )\n",
    "print( champoccs_US_midnight )"
   ]
  },
  {
   "cell_type": "markdown",
   "id": "3bd03cfe",
   "metadata": {},
   "source": [
    "in which the local time range is given in hours and can wrap around \n",
    "midnight. Other filter options are for the GNSS constellation used as \n",
    "transmitters (\"G\" for GPS, \"R\" for GLONASS, \"E\" for Galileo, \"C\" for \n",
    "BeiDou), for individual transmitters (\"G01\", etc.), for individual \n",
    "receivers (\"cosmic1c1\", \"metopb\", etc.), and for occultation 'geometry' \n",
    "(\"rising\" vs. \"setting\"). \n",
    "\n",
    "One can get information on the metadata in an OccList using the \n",
    "OccList.info method. For instance, if you want to get a listing of all of \n",
    "the Spire receiver satellites, do "
   ]
  },
  {
   "cell_type": "code",
   "execution_count": null,
   "id": "ac48c156",
   "metadata": {},
   "outputs": [],
   "source": [
    "spire = rodb.query( missions=\"spire\" )\n",
    "print( f\"Number of Spire occultation found: {spire.size}\" )\n",
    "spire_receivers = spire.info( \"receiver\" )\n",
    "print( spire_receivers )"
   ]
  },
  {
   "cell_type": "markdown",
   "id": "4d3a5126",
   "metadata": {},
   "source": [
    "Notice that OccList.size contains a count of the number of RO entries in this \n",
    "instance of OccList. The first step in this process could be time consuming if the Spire \n",
    "metadata do not already reside on the local file system and the rodb object \n",
    "does not interface with a local repository. One can also get a list of the \n",
    "GNSS transmitters tracked by Spire on a particular day by "
   ]
  },
  {
   "cell_type": "code",
   "execution_count": null,
   "id": "5bc074ad",
   "metadata": {},
   "outputs": [],
   "source": [
    "spire_day = spire.filter( datetimerange=(\"2021-12-01\",\"2021-12-02\") )\n",
    "spire_day_transmitters = spire_day.info(\"transmitter\")\n",
    "print( spire_day_transmitters )"
   ]
  },
  {
   "cell_type": "markdown",
   "id": "d1104d3a",
   "metadata": {},
   "source": [
    "which will give a list of all GNSS transmitters tracked by all Spire \n",
    "satellites on December 1, 2021. The spire_day list can be split up between \n",
    "rising and setting RO soundings as well: "
   ]
  },
  {
   "cell_type": "code",
   "execution_count": null,
   "id": "418ea3ae",
   "metadata": {},
   "outputs": [],
   "source": [
    "spire_day_rising = spire_day.filter( geometry=\"rising\" )\n",
    "print( \"spire_day_rising = \" + str(spire_day_rising) )\n",
    "spire_day_setting = spire_day.filter( geometry=\"setting\" )\n",
    "print( \"spire_day_setting = \" + str(spire_day_setting) )"
   ]
  },
  {
   "cell_type": "markdown",
   "id": "8f7b391c",
   "metadata": {},
   "source": [
    "Another filter option is by the availability of various types of AWS RO data file types. \n",
    "There are three AWS-native RO data file types (AWSfiletypes): *calibratedPhase*, which contains precise \n",
    "orbits, calibrated phase, and amplitude measurements; *refractivityRetrieval*, which contains \n",
    "retrieved bending angles, impact parameters, and refractivity profiles; and *atmosphericRetrieval*, \n",
    "which contains retrievals of atmospheric quantities such as temperature, pressure, and water \n",
    "vapor partial pressure. The filetype has format \"{center}\\_{AWSfiletype}\", where the \"center\" is \n",
    "one of the contributing RO processing centers (\"ucar\", \"jpl\", \"romsaf\"). "
   ]
  },
  {
   "cell_type": "code",
   "execution_count": null,
   "id": "cdea2f12",
   "metadata": {},
   "outputs": [],
   "source": [
    "spire_day_with_bending_data = spire_day.filter( availablefiletypes=\"ucar_refractivityRetrieval\" )\n",
    "print( \"spire_day_with_bending_data = \" + str(spire_day_with_bending_data) )"
   ]
  },
  {
   "cell_type": "markdown",
   "id": "397e7559",
   "metadata": {},
   "source": [
    "Then it is possible to save the spire metadata OccList to a JSON file \n",
    "for future restoration by "
   ]
  },
  {
   "cell_type": "code",
   "execution_count": null,
   "id": "f48fa4a0",
   "metadata": {},
   "outputs": [],
   "source": [
    "spire.save( \"spire_metadata.json\" )"
   ]
  },
  {
   "cell_type": "markdown",
   "id": "06590dd2",
   "metadata": {},
   "source": [
    "The metadata contain pointers to the RO sounding data files in the \n",
    "AWS Open Data bucket. To get information on the data files available, \n",
    "use the `OccList.info( \"filetype\" )` method. For example, to find out the \n",
    "types of RO data files avialable for the month of June, 2009: "
   ]
  },
  {
   "cell_type": "code",
   "execution_count": null,
   "id": "bbe57199",
   "metadata": {},
   "outputs": [],
   "source": [
    "from pprint import pprint\n",
    "\n",
    "June2009 = rodb.query( datetimerange=(\"2009-06-01\",\"2009-06-30\") )\n",
    "filetype_dict = June2009.info( \"filetype\" )\n",
    "pprint( filetype_dict, indent=2 )"
   ]
  },
  {
   "cell_type": "markdown",
   "id": "ae5e584f",
   "metadata": {},
   "source": [
    "which will return a dictionary with the AWS-native RO file types as keys \n",
    "with corresponding values being the counts of each. The file types have the \n",
    "format \"{processing_center}_{file_type}\" in which \"processing_center\" is an \n",
    "RO processing center that contributed to the AWS repository (\"ucar\", \n",
    "\"romsaf\", \"jpl\") and the \"file_type\" is one of \"calibratedPhase\", \n",
    "\"refractivityRetrieval\", or \"atmosphericRetrieval\". \n",
    "\n",
    "The values of the longitude, latitude, datetime, and localtimes of the RO \n",
    "soundings in an OccList can be obtained using the OccList.values() method: "
   ]
  },
  {
   "cell_type": "code",
   "execution_count": null,
   "id": "02d9c511",
   "metadata": {},
   "outputs": [],
   "source": [
    "longitudes = June2009.values( \"longitude\" )\n",
    "latitudes = June2009.values( \"latitude\" )\n",
    "localtimes = June2009.values( \"localtime\" )"
   ]
  },
  {
   "cell_type": "markdown",
   "id": "4375cde4",
   "metadata": {},
   "source": [
    "where each of these variables being a masked numpy ndarray. \n",
    "\n",
    "Finally, RO data files themselves can be downloaded for subsequent \n",
    "scientific analysis using the OccList.download() method. If one wishes to \n",
    "download the all RO bending angle data contributed by the ROMSAF to the archive \n",
    "for the day of June 5, 2012, one only need execute the commands  "
   ]
  },
  {
   "cell_type": "code",
   "execution_count": null,
   "id": "1a9a2651",
   "metadata": {},
   "outputs": [],
   "source": [
    "day_list = rodb.query( datetimerange=(\"2012-06-05T00:00:00\",\"2012-06-05T23:59:59\") )\n",
    "files = day_list.download( \"romsaf_refractivityRetrieval\" )\n",
    "pprint( files )"
   ]
  },
  {
   "cell_type": "markdown",
   "id": "3961fa6a",
   "metadata": {},
   "source": [
    "which will download all file type \"refractivityRetrieval\" contributed by \n",
    "the ROM SAF into the rodata_directory specified at initialization. The user \n",
    "can override the download directory using the **rodata** keyword, in which \n",
    "case the user can also use the **keep_aws_structure=False** declaration to \n",
    "glob all files into that directory without the directory hierarchy of the \n",
    "AWS RO repository. The download method does require the download directory \n",
    "be specified either in the resources file defined at initialization or as \n",
    "specified by keyword in calling the download method. "
   ]
  },
  {
   "cell_type": "markdown",
   "id": "cf96c600",
   "metadata": {},
   "source": [
    "## Exercise\n",
    "Plot the geolocation of all GNSS RO soundings on June 1, 2012. "
   ]
  },
  {
   "cell_type": "code",
   "execution_count": null,
   "id": "6642efa4",
   "metadata": {},
   "outputs": [],
   "source": [
    "import matplotlib.pyplot as plt\n",
    "import cartopy.crs as ccrs\n",
    "\n",
    "plt.clf()\n",
    "cmap = plt.get_cmap( \"nipy_spectral\" )\n",
    "ax = plt.axes( projection=ccrs.PlateCarree() )\n",
    "ax.coastlines( color=\"black\" )\n",
    "\n",
    "occlist = rodb.query( datetimerange=(\"2012-06-01\",\"2012-06-02\") )\n",
    "print( f\"Found {occlist.size} soundings.\" )\n",
    "missions = occlist.info( \"mission\" )\n",
    "\n",
    "for imission, mission in enumerate(missions): \n",
    "    occlist_by_mission = occlist.filter( missions=mission )\n",
    "    lons = occlist_by_mission.values( \"longitude\" )\n",
    "    lats = occlist_by_mission.values( \"latitude\" )\n",
    "    color = cmap( (imission+0.5)/len(missions) )\n",
    "    ax.scatter( lons, lats, color=color, marker=\"o\", s=0.2 , label=mission )\n",
    "    \n",
    "ax.legend(loc=\"lower left\", fontsize=\"x-small\")\n",
    "plt.show()"
   ]
  },
  {
   "cell_type": "code",
   "execution_count": null,
   "id": "54fbd4ca",
   "metadata": {},
   "outputs": [],
   "source": []
  }
 ],
 "metadata": {
  "kernelspec": {
   "display_name": "my_environment",
   "language": "python",
   "name": "python3"
  },
  "language_info": {
   "codemirror_mode": {
    "name": "ipython",
    "version": 3
   },
   "file_extension": ".py",
   "mimetype": "text/x-python",
   "name": "python",
   "nbconvert_exporter": "python",
   "pygments_lexer": "ipython3",
   "version": "3.8.10"
  }
 },
 "nbformat": 4,
 "nbformat_minor": 5
}

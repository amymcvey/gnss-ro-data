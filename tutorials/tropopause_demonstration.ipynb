{
 "cells": [
  {
   "cell_type": "markdown",
   "id": "3b813feb",
   "metadata": {},
   "source": [
    "# Tropause Analysis Demonstration\n",
    "\n",
    "This notebook presents a typical science use case. We will take advantage of the \n",
    "database utility available in awsgnssroutils.py, download radio occultation (RO) \n",
    "data files from the AWS Registry of Open Data respository of RO data, execute \n",
    "some basic numerical analysis, and plot results using matplotlib. \n",
    "\n",
    "## Imports and defaults\n",
    "\n",
    "First, import Python modules. "
   ]
  },
  {
   "cell_type": "code",
   "execution_count": null,
   "id": "f621cf70",
   "metadata": {},
   "outputs": [],
   "source": [
    "import os\n",
    "import json\n",
    "import numpy as np\n",
    "from scipy.optimize import fmin\n",
    "from scipy.interpolate import interp1d\n",
    "from netCDF4 import Dataset\n",
    "from awsgnssroutils import RODatabaseClient\n",
    "import matplotlib.pyplot as plt\n",
    "from matplotlib.ticker import MultipleLocator "
   ]
  },
  {
   "cell_type": "markdown",
   "id": "67fedd78",
   "metadata": {},
   "source": [
    "Plot default settings. "
   ]
  },
  {
   "cell_type": "code",
   "execution_count": null,
   "id": "04834e98",
   "metadata": {},
   "outputs": [],
   "source": [
    "axeslinewidth = 0.5 \n",
    "plt.rcParams.update( {\n",
    "  'font.family': \"Times New Roman\", \n",
    "  'font.size': 8,  \n",
    "  'font.weight': \"normal\", \n",
    "  'text.usetex': True, \n",
    "  'xtick.major.width': axeslinewidth, \n",
    "  'xtick.minor.width': axeslinewidth, \n",
    "  'ytick.major.width': axeslinewidth, \n",
    "  'ytick.minor.width': axeslinewidth, \n",
    "  'axes.linewidth': axeslinewidth } ) "
   ]
  },
  {
   "cell_type": "markdown",
   "id": "04e95199",
   "metadata": {},
   "source": [
    "Define the tropical and extra-tropical tropopause bounds. The height \n",
    "bounds have units of gpm, or geopotential meters. Convert these numbers \n",
    "to geopotential energy per unit mass by multiplying by WMO standard gravity, \n",
    "which has units of J/kg/gpm. "
   ]
  },
  {
   "cell_type": "code",
   "execution_count": null,
   "id": "1c5ccad1",
   "metadata": {},
   "outputs": [],
   "source": [
    "tropical_tropopause = { 'height_bounds': np.array( [15.0e3,20.0e3] ) }\n",
    "extratropical_tropopause = { 'height_bounds': np.array( [8.0e3,14.0e3] ) }\n",
    "gravity = 9.80665"
   ]
  },
  {
   "cell_type": "markdown",
   "id": "82e8c57a",
   "metadata": {},
   "source": [
    "Create an RO database object to be used for database queries and downloading \n",
    "RO data. "
   ]
  },
  {
   "cell_type": "code",
   "execution_count": null,
   "id": "329dd1b6",
   "metadata": {},
   "outputs": [],
   "source": [
    "HOME = os.path.expanduser( \"~\" )\n",
    "databasepath = os.path.join( HOME, \"local/rodatabase\" )\n",
    "db = RODatabaseClient( repository=databasepath, update=False )"
   ]
  },
  {
   "cell_type": "markdown",
   "id": "8b4e0aab",
   "metadata": {},
   "source": [
    "## Select RO dataset\n",
    "\n",
    "Select a subset of RO dataset to analyze for analysis using the \n",
    "database object. "
   ]
  },
  {
   "cell_type": "code",
   "execution_count": null,
   "id": "f54f248e",
   "metadata": {},
   "outputs": [],
   "source": [
    "datetimerange = ( \"2020-01-01\", \"2020-01-02\" )\n",
    "occs = db.query( datetimerange=datetimerange )"
   ]
  },
  {
   "cell_type": "markdown",
   "id": "110f5da5",
   "metadata": {},
   "source": [
    "At present, this gets metadata on one day of RO data, all RO missions. \n",
    "The bounds in datatimerange are strings of ISO-format times. Next, \n",
    "diagnostics on the occultations available. "
   ]
  },
  {
   "cell_type": "code",
   "execution_count": null,
   "id": "75da2827",
   "metadata": {},
   "outputs": [],
   "source": [
    "print( f\"Number of soundings found = {occs.size}\" )\n",
    "missions = occs.info( \"mission\" )\n",
    "for mission in missions: \n",
    "    suboccs = occs.filter( missions=mission )\n",
    "    print( f\"Number of {mission} soundings found = {suboccs.size}\" )\n",
    "filetypes_dict = occs.info( \"filetype\" )\n",
    "for filetype, number in filetypes_dict.items(): \n",
    "    center, AWStype = filetype.split(\"_\")\n",
    "    if AWStype == \"atmosphericRetrieval\": \n",
    "        print( f\"Number of {filetype} data files = {number}\" )"
   ]
  },
  {
   "cell_type": "markdown",
   "id": "affa4147",
   "metadata": {},
   "source": [
    "## Download data and analyze\n",
    "\n",
    "Work with contributions from UCAR. Let's download the UCAR atmosphericRetrieval \n",
    "format files. The atmosphericRetrieval files contain RO retreivals of \n",
    "standard atmospheric variables: temperature (not \"dry temperature\"), pressure \n",
    "(not \"dry pressure\"), refractivity, partial pressure of water vapor, all as \n",
    "functions of geopotential. \n",
    "\n",
    "This notebook downloads data into the path \"~/Data/rodata/\". Download data by mission. "
   ]
  },
  {
   "cell_type": "code",
   "execution_count": null,
   "id": "365560b8",
   "metadata": {},
   "outputs": [],
   "source": [
    "datadir = os.path.join( HOME, \"Data/rodata\" )\n",
    "missions = occs.info( \"mission\" )\n",
    "datafiles = {}\n",
    "for mission in missions: \n",
    "    suboccs = occs.filter( missions=mission )\n",
    "    files = suboccs.download( \"ucar_atmosphericRetrieval\", datadir, keep_aws_structure=True )\n",
    "    datafiles.update( { mission: files } )"
   ]
  },
  {
   "cell_type": "markdown",
   "id": "0cc648ab",
   "metadata": {},
   "source": [
    "Analyze data by mission. Keep track of tropopause height, temperature, and pressure. "
   ]
  },
  {
   "cell_type": "code",
   "execution_count": null,
   "id": "8e894b1e",
   "metadata": {},
   "outputs": [],
   "source": [
    "#  Initialize output variables. \n",
    "\n",
    "print( \"Initializing data dictionaries.\")\n",
    "for tropopause in [ tropical_tropopause, extratropical_tropopause ]: \n",
    "    for mission in missions: \n",
    "        tropopause.update( { mission: { 'height': [], 'temperature': [], 'pressure': [], 'latitude': [] } } )\n",
    "\n",
    "#  Loop over mission. \n",
    "\n",
    "for mission in missions: \n",
    "    print( f\"Analyzing {mission} for tropopauses.\" )\n",
    "    for file in datafiles[mission]: \n",
    "        \n",
    "        #  Read in temperature and pressure profiles. \n",
    "        \n",
    "        d = Dataset( file, 'r' )\n",
    "        temperature = d.variables['temperature'][:]\n",
    "        pressure = d.variables['pressure'][:]\n",
    "        height = d.variables['geopotential'][:] / gravity\n",
    "        latitude = d.variables['refLatitude'].getValue()\n",
    "        d.close()\n",
    "        \n",
    "        for tropopause in [ tropical_tropopause, extratropical_tropopause ]: \n",
    "            rec = tropopause[mission]\n",
    "            bounds = tropopause['height_bounds']\n",
    "            \n",
    "            i = np.argwhere( np.logical_and( height > bounds[0], height < bounds[1] ) ).squeeze()\n",
    "            ftemperature = interp1d( height[i], temperature[i], kind=\"cubic\", \n",
    "                                        bounds_error=False, fill_value=1.0e10 )\n",
    "            j = temperature[i].argsort()[0]\n",
    "            x0 = height[i[j]]\n",
    "            height_min = fmin( ftemperature, x0=x0 )\n",
    "            \n",
    "            found = ( height_min > bounds[0]+100 and height_min < bounds[1]-100 )\n",
    "            \n",
    "            if found: \n",
    "                temperature_min = ftemperature( height_min )\n",
    "                flnpressure = interp1d( height[i], np.log( pressure[i] ), kind=\"cubic\", \n",
    "                                       bounds_error=False, fill_value=1.0e10 )\n",
    "                pressure_min = np.exp( flnpressure(height_min) )\n",
    "                rec['height'].append( height_min )\n",
    "                rec['temperature'].append( temperature_min )\n",
    "                rec['pressure'].append( pressure_min )\n",
    "                rec['latitude'].append( latitude )\n",
    "\n",
    "#  Convert to ndarrays. \n",
    "\n",
    "for tropopause in [ tropical_tropopause, extratropical_tropopause ]: \n",
    "    for mission in missions: \n",
    "        rec = tropopause[mission]\n",
    "        for variable in [ 'height', 'temperature', 'pressure', 'latitude' ]: \n",
    "            rec[variable] = np.array( rec[variable] )\n"
   ]
  },
  {
   "cell_type": "markdown",
   "id": "19b97147",
   "metadata": {},
   "source": [
    "## Plot results\n",
    "\n",
    "First, define latitude labels and mission colors. \n"
   ]
  },
  {
   "cell_type": "code",
   "execution_count": null,
   "id": "c1d3fc88",
   "metadata": {},
   "outputs": [],
   "source": [
    "tickvalues = np.arange( -90, 90.1, 30 )\n",
    "ticklabels = []\n",
    "for tickvalue in tickvalues: \n",
    "    if tickvalue > 0: \n",
    "        ticklabels.append( \"{:}$^\\circ$N\".format( int(np.abs(tickvalue)) ) )\n",
    "    elif tickvalue < 0: \n",
    "        ticklabels.append( \"{:}$^\\circ$S\".format( int(np.abs(tickvalue)) ) )\n",
    "    else: \n",
    "        ticklabels.append( \"Eq\" )\n",
    "\n",
    "cmap = plt.get_cmap( \"gist_ncar\" )\n",
    "nmissions = len( missions )\n",
    "colors = { mission: cmap((imission+0.5)/nmissions) for imission, mission in enumerate(missions) }"
   ]
  },
  {
   "cell_type": "markdown",
   "id": "04a429da",
   "metadata": {},
   "source": [
    "Now, plot tropopause height. "
   ]
  },
  {
   "cell_type": "code",
   "execution_count": null,
   "id": "14e08b5d",
   "metadata": {},
   "outputs": [],
   "source": [
    "plt.clf()\n",
    "\n",
    "fig = plt.figure()\n",
    "ax = fig.add_axes( [0.1,0.1,0.87,0.87] )\n",
    "\n",
    "ax.set_xticks( tickvalues )\n",
    "ax.xaxis.set_minor_locator( MultipleLocator(10) )\n",
    "ax.set_xticklabels( ticklabels )\n",
    "ax.set_yticks( np.arange(8,20.1,2) )\n",
    "ax.set_ylabel( \"Tropopause height [km]\" )\n",
    "ax.yaxis.set_minor_locator( MultipleLocator(0.5) )\n",
    "for mission in missions: \n",
    "    first = True\n",
    "    for tropopause in [ tropical_tropopause, extratropical_tropopause ]: \n",
    "        rec = tropopause[mission]\n",
    "        args = { 's': 0.2, 'color': colors[mission] }\n",
    "        if first: \n",
    "            args.update( { 'label': mission } )\n",
    "        ax.scatter( rec['latitude'], rec['height']/1000, **args )\n",
    "        first = False\n",
    "\n",
    "ax.legend( loc=\"lower right\" )\n",
    "plt.show()"
   ]
  },
  {
   "cell_type": "markdown",
   "id": "53fdd09c",
   "metadata": {},
   "source": [
    "Now plot tropopause temperature. "
   ]
  },
  {
   "cell_type": "code",
   "execution_count": null,
   "id": "6a5453b2",
   "metadata": {},
   "outputs": [],
   "source": [
    "plt.clf()\n",
    "\n",
    "fig = plt.figure()\n",
    "ax = fig.add_axes( [0.1,0.1,0.87,0.87] )\n",
    "\n",
    "ax.set_xticks( tickvalues )\n",
    "ax.xaxis.set_minor_locator( MultipleLocator(10) )\n",
    "ax.set_yticks( np.arange(180,240.1,20) )\n",
    "ax.yaxis.set_minor_locator( MultipleLocator(5) )\n",
    "ax.set_ylim( 180, 240 )\n",
    "ax.set_ylabel( \"Tropopause temperature [K]\" )\n",
    "\n",
    "for mission in missions: \n",
    "    first = True\n",
    "    for tropopause in [ tropical_tropopause, extratropical_tropopause ]: \n",
    "        rec = tropopause[mission]\n",
    "        args = { 's': 0.2, 'color': colors[mission] }\n",
    "        if first: \n",
    "            args.update( { 'label': mission } )\n",
    "        ax.scatter( rec['latitude'], rec['temperature'], **args )\n",
    "        first = False\n",
    "\n",
    "ax.legend( loc=\"lower right\" )\n",
    "plt.show()"
   ]
  },
  {
   "cell_type": "markdown",
   "id": "60d3a952",
   "metadata": {},
   "source": [
    "Tropopause pressure. "
   ]
  },
  {
   "cell_type": "code",
   "execution_count": null,
   "id": "c56ca8f7",
   "metadata": {},
   "outputs": [],
   "source": [
    "plt.clf()\n",
    "\n",
    "fig = plt.figure()\n",
    "ax = fig.add_axes( [0.1,0.1,0.87,0.87] )\n",
    "\n",
    "ax.set_xticks( tickvalues )\n",
    "ax.xaxis.set_minor_locator( MultipleLocator(10) )\n",
    "ax.set_yticks( np.arange(300,49.9,-50) )\n",
    "ax.yaxis.set_minor_locator( MultipleLocator(10) )\n",
    "ax.set_ylim( 300, 30 )\n",
    "ax.set_ylabel( \"Tropopause pressure [hPa]\" )\n",
    "\n",
    "for mission in missions: \n",
    "    first = True\n",
    "    for tropopause in [ tropical_tropopause, extratropical_tropopause ]: \n",
    "        rec = tropopause[mission]\n",
    "        args = { 's': 0.2, 'color': colors[mission] }\n",
    "        if first: \n",
    "            args.update( { 'label': mission } )\n",
    "        ax.scatter( rec['latitude'], rec['pressure']/100, **args )\n",
    "        first = False\n",
    "\n",
    "ax.legend( loc=\"lower right\" )\n",
    "plt.show()"
   ]
  },
  {
   "cell_type": "code",
   "execution_count": null,
   "id": "73d2f4bc",
   "metadata": {},
   "outputs": [],
   "source": []
  }
 ],
 "metadata": {
  "kernelspec": {
   "display_name": "my_environment",
   "language": "python",
   "name": "python3"
  },
  "language_info": {
   "codemirror_mode": {
    "name": "ipython",
    "version": 3
   },
   "file_extension": ".py",
   "mimetype": "text/x-python",
   "name": "python",
   "nbconvert_exporter": "python",
   "pygments_lexer": "ipython3",
   "version": "3.8.10"
  }
 },
 "nbformat": 4,
 "nbformat_minor": 5
}

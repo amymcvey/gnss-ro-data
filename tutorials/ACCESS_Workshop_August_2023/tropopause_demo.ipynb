{
 "cells": [
  {
   "cell_type": "markdown",
   "id": "2154b41a",
   "metadata": {},
   "source": [
    "# Lapse-rate tropopause (LRT) is defined as the lowest level at which the lapse rate decreases to 2 deg K/km or less, provided also the average lapse rate between this level and all higher levels within 2 kilometers does not exceed 2 deg K/km"
   ]
  },
  {
   "cell_type": "code",
   "execution_count": null,
   "id": "78994736",
   "metadata": {},
   "outputs": [],
   "source": [
    "import os\n",
    "import json\n",
    "import numpy as np\n",
    "from scipy.interpolate import interp1d\n",
    "from netCDF4 import Dataset\n",
    "import matplotlib.pyplot as plt\n",
    "from warnings import filterwarnings\n",
    "from awsgnssroutils.database import RODatabaseClient\n",
    "from pprint import pprint\n",
    "filterwarnings(action='ignore', category=DeprecationWarning, message='`np.bool` is a deprecated alias')\n"
   ]
  },
  {
   "cell_type": "code",
   "execution_count": null,
   "id": "20356253",
   "metadata": {},
   "outputs": [],
   "source": [
    "axeslinewidth = 0.5 \n",
    "plt.rcParams.update( {\n",
    "  'font.family': \"Times New Roman\", \n",
    "  'font.size': 8,  \n",
    "  'font.weight': \"normal\", \n",
    "  'text.usetex': True, \n",
    "  'xtick.major.width': axeslinewidth, \n",
    "  'xtick.minor.width': axeslinewidth, \n",
    "  'ytick.major.width': axeslinewidth, \n",
    "  'ytick.minor.width': axeslinewidth, \n",
    "  'axes.linewidth': axeslinewidth } ) "
   ]
  },
  {
   "cell_type": "code",
   "execution_count": null,
   "id": "122031eb",
   "metadata": {},
   "outputs": [],
   "source": [
    "db = RODatabaseClient()\n",
    "occs = db.query( missions=\"tsx\", availablefiletypes=\"ucar_atmosphericRetrieval\", \n",
    "                datetimerange=(\"2019-01-02\",\"2019-01-03\") )\n",
    "print( occs )\n",
    "files = occs.download( \"ucar_atmosphericRetrieval\" )\n",
    "pprint( files )"
   ]
  },
  {
   "cell_type": "code",
   "execution_count": null,
   "id": "5ddcb7d5",
   "metadata": {},
   "outputs": [],
   "source": [
    "file = files[188]\n",
    "d = Dataset( file, 'r' )\n",
    "temperature = d.variables['temperature'][:]\n",
    "pressure = d.variables['pressure'][:]\n",
    "pressure = pressure * 0.01  # convert to hPa\n",
    "alt = d.variables['altitude'][:]\n",
    "alt = alt*1.e-3   # convert to km\n",
    "#latitude = d.variables['refLatitude'].getValue()\n",
    "d.close()"
   ]
  },
  {
   "cell_type": "code",
   "execution_count": null,
   "id": "cdfa6da1",
   "metadata": {},
   "outputs": [],
   "source": [
    "hmax = 22\n",
    "hmin = 6\n",
    "dh = 0.1\n",
    "h = np.arange(hmin,hmax,dh)\n",
    "temf = interp1d(alt,temperature,'linear')\n",
    "tem_utls = temf(h)\n",
    "presf = interp1d(alt,pressure,'linear')\n",
    "pres_utls = presf(h)\n",
    "alt_utls = h \n",
    "\n",
    "# cold point tropopause\n",
    "imin=np.argmin(tem_utls)\n",
    "hcpt=alt_utls[imin]\n",
    "tcpt=tem_utls[imin]\n",
    "pcpt=pres_utls[imin]\n",
    "\n",
    "print(hcpt,tcpt,pcpt)"
   ]
  },
  {
   "cell_type": "code",
   "execution_count": null,
   "id": "3f78b78d",
   "metadata": {},
   "outputs": [],
   "source": [
    "# lapse rate (WMO) tropopause\n",
    "lapse=-np.diff(tem_utls)/dh\n",
    "lapse2km=np.zeros(np.size(lapse))\n",
    "\n",
    "n2km=int(2/dh)\n",
    "nmax=len(lapse)\n",
    "for i,z in enumerate(alt_utls[0:nmax-n2km]):\n",
    "    lapse2km[i]=np.mean(lapse[i:i+n2km])\n",
    "    #print(z,lapse[i],lapse2km[i])\n",
    "    if (lapse[i] < 2 and lapse2km[i] < 2):\n",
    "        #print(z,lapse[i],lapse2km[i])\n",
    "        hlrt=alt_utls[i]\n",
    "        tlrt=tem_utls[i]\n",
    "        plrt=pres_utls[i]\n",
    "        break\n",
    "\n",
    "plt.clf()\n",
    "plt.figure()\n",
    "plt.plot(lapse,alt_utls[0:-1],lapse2km,alt_utls[0:-1])\n",
    "plt.xlim( -1, 8)\n",
    "plt.show()"
   ]
  },
  {
   "cell_type": "code",
   "execution_count": null,
   "id": "d2a8ac28",
   "metadata": {},
   "outputs": [],
   "source": [
    "plt.clf()\n",
    "\n",
    "plt.figure()\n",
    "plt.plot(temperature,alt,'-',tcpt,hcpt,'o',tlrt,hlrt,'x')\n",
    "plt.ylim( 6, 24)\n",
    "plt.xlim(200, 240)\n",
    "plt.show()"
   ]
  },
  {
   "cell_type": "code",
   "execution_count": null,
   "id": "799e746a",
   "metadata": {},
   "outputs": [],
   "source": [
    "occ_lat=[]\n",
    "occ_lon=[]\n",
    "hcpt=[]\n",
    "tcpt=[]\n",
    "pcpt=[]\n",
    "hlrt=[]\n",
    "tlrt=[]\n",
    "plrt=[]\n",
    "\n",
    "# range of heights to search for tropopause\n",
    "hmax = 22\n",
    "hmin = 6\n",
    "dh = 0.1\n",
    "h = np.arange(hmin,hmax,dh)\n",
    "\n",
    "for k,file in enumerate(files):\n",
    "    #print(occ)\n",
    "    #file = path+'/'+occ\n",
    "    d = Dataset( file, 'r' )\n",
    "    temperature = d.variables['temperature'][:]\n",
    "    pressure = d.variables['pressure'][:]\n",
    "    pressure = pressure * 0.01  # convert to hPa\n",
    "    alt = d.variables['altitude'][:]\n",
    "    alt = alt*1.e-3   # convert to km\n",
    "    occ_lat.append(d.variables['refLatitude'].getValue())\n",
    "    occ_lon.append(d.variables['refLongitude'].getValue())\n",
    "    d.close()\n",
    "    \n",
    "    if (min(alt) < hmin and max(alt) > hmax):\n",
    "        temf = interp1d(alt,temperature,'linear')\n",
    "        tem_utls = temf(h)\n",
    "        presf = interp1d(alt,pressure,'linear')\n",
    "        pres_utls = presf(h)\n",
    "        alt_utls = h \n",
    "    \n",
    "        imin=np.argmin(tem_utls)\n",
    "        hcpt.append(alt_utls[imin])\n",
    "        tcpt.append(tem_utls[imin])\n",
    "        pcpt.append(pres_utls[imin])\n",
    "        \n",
    "    # lapse rate (WMO) tropopause\n",
    "        lapse=-np.diff(tem_utls)/dh\n",
    "        lapse2km=np.zeros(np.size(lapse))\n",
    "\n",
    "        n2km=int(2.0/dh)\n",
    "        nmax=len(lapse)\n",
    "        for i,z in enumerate(alt_utls[0:nmax-n2km]):\n",
    "            lapse2km[i]=np.mean(lapse[i:i+n2km])\n",
    "            if (lapse[i] < 2 and lapse2km[i] < 2):\n",
    "                hlrt.append(alt_utls[i])\n",
    "                tlrt.append(tem_utls[i])\n",
    "                plrt.append(pres_utls[i])\n",
    "                break\n",
    "\n",
    "    else:\n",
    "        hcpt.append(-999.)\n",
    "        tcpt.append(-999.)\n",
    "        pcpt.append(-999.)\n",
    "        \n",
    "        hlrt.append(-999.)\n",
    "        tlrt.append(-999.)\n",
    "        plrt.append(-999.)\n",
    "\n",
    "    "
   ]
  },
  {
   "cell_type": "code",
   "execution_count": null,
   "id": "c5a1e177",
   "metadata": {},
   "outputs": [],
   "source": [
    "plt.clf()\n",
    "\n",
    "plt.figure()\n",
    "plt.plot(occ_lat[:],hcpt[:],'o',occ_lat[:],hlrt[:],'x')\n",
    "plt.ylim( 6, 24)\n",
    "plt.xlim(-90,90)\n",
    "plt.show()"
   ]
  },
  {
   "cell_type": "code",
   "execution_count": null,
   "id": "8198135f",
   "metadata": {},
   "outputs": [],
   "source": [
    "plt.clf()\n",
    "\n",
    "plt.figure()\n",
    "plt.plot(occ_lat[:],tcpt[:],'o',occ_lat[:],tlrt[:],'x')\n",
    "plt.ylim(180, 240)\n",
    "plt.xlim(-90,90)\n",
    "plt.show()"
   ]
  },
  {
   "cell_type": "code",
   "execution_count": null,
   "id": "2789f48c",
   "metadata": {},
   "outputs": [],
   "source": []
  }
 ],
 "metadata": {
  "kernelspec": {
   "display_name": "my_environment",
   "language": "python",
   "name": "python3"
  },
  "language_info": {
   "codemirror_mode": {
    "name": "ipython",
    "version": 3
   },
   "file_extension": ".py",
   "mimetype": "text/x-python",
   "name": "python",
   "nbconvert_exporter": "python",
   "pygments_lexer": "ipython3",
   "version": "3.8.10"
  }
 },
 "nbformat": 4,
 "nbformat_minor": 5
}

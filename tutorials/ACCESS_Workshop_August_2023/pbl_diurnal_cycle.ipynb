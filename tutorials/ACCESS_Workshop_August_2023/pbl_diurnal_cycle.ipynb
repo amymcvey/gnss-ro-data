{
 "cells": [
  {
   "cell_type": "markdown",
   "id": "8cedc7ff",
   "metadata": {},
   "source": [
    "# PBL height over the Southern Great Plains\n",
    "\n",
    "**Be sure to update awsgnssroutils to at least version 1.0.6.**\n",
    "\n",
    "Import modules. "
   ]
  },
  {
   "cell_type": "code",
   "execution_count": null,
   "id": "c1227c8a",
   "metadata": {},
   "outputs": [],
   "source": [
    "from awsgnssroutils.database import RODatabaseClient\n",
    "import numpy as np\n",
    "import matplotlib.pyplot as plt\n",
    "from matplotlib.ticker import MultipleLocator\n",
    "from netCDF4 import Dataset\n",
    "from datetime import datetime, timedelta\n",
    "from scipy.interpolate import interp1d\n",
    "from scipy.optimize import fmin\n",
    "from datetime import datetime\n",
    "import os\n",
    "\n",
    "gravity = 9.80665"
   ]
  },
  {
   "cell_type": "markdown",
   "id": "9761e5ec",
   "metadata": {},
   "source": [
    "Open port to database. "
   ]
  },
  {
   "cell_type": "code",
   "execution_count": null,
   "id": "a8a8cb16",
   "metadata": {},
   "outputs": [],
   "source": [
    "db = RODatabaseClient()"
   ]
  },
  {
   "cell_type": "markdown",
   "id": "b9f132c9",
   "metadata": {},
   "source": [
    "Define region and year"
   ]
  },
  {
   "cell_type": "code",
   "execution_count": null,
   "id": "2c7ae1e2",
   "metadata": {},
   "outputs": [],
   "source": [
    "longituderange = [ -105, -95 ]\n",
    "latituderange = [ 30, 40 ]\n",
    "year = 2009\n",
    "missions = \"cosmic1\""
   ]
  },
  {
   "cell_type": "code",
   "execution_count": null,
   "id": "afb349ab",
   "metadata": {},
   "outputs": [],
   "source": [
    "datetimerange = ( datetime(year,1,1).isoformat(), datetime(year+1,1,1).isoformat() )\n",
    "occs = db.query( missions=missions, datetimerange=datetimerange, \n",
    "                longituderange=longituderange, latituderange=latituderange, \n",
    "                availablefiletypes=\"ucar_atmosphericRetrieval\" )\n",
    "print( f'Number of occultations = {occs.size}' )"
   ]
  },
  {
   "cell_type": "markdown",
   "id": "5d72c8e4",
   "metadata": {},
   "source": [
    "Download data"
   ]
  },
  {
   "cell_type": "code",
   "execution_count": null,
   "id": "b76b5402",
   "metadata": {},
   "outputs": [],
   "source": [
    "files = occs.download( \"romsaf_atmosphericRetrieval\" )\n",
    "localtimes = occs.values( \"localtime\" )\n",
    "times = occs.values( \"datetime\")"
   ]
  },
  {
   "cell_type": "code",
   "execution_count": null,
   "id": "af5a1220",
   "metadata": {},
   "outputs": [],
   "source": [
    "dtimes = []\n",
    "ltimes = []\n",
    "pbl_heights = []\n",
    "fill_value = -1.0e20\n",
    "\n",
    "z = np.arange( 0, 3000, 10 )\n",
    "\n",
    "for ifile, file in enumerate( files ): \n",
    "    d = Dataset( file, 'r' )\n",
    "    refractivity = d.variables['refractivity'][:]\n",
    "    if refractivity.mask.sum() == 0: \n",
    "        i = np.arange( refractivity.size )\n",
    "    else: \n",
    "        i = np.argwhere( np.logical_not( refractivity.mask ) ).flatten()\n",
    "    height = d.variables['geopotential'][i]/gravity\n",
    "    refractivity = refractivity[i]\n",
    "    d.close()\n",
    "    if height.min() > 1000.0: \n",
    "        continue\n",
    "        \n",
    "    refractivity_gradient = ( refractivity[1:] - refractivity[:-1] ) / ( height[1:] - height[:-1] )\n",
    "    midheight = 0.5 * ( height[1:] + height[:-1] )\n",
    "    f = interp1d( midheight, refractivity_gradient, fill_value=fill_value, bounds_error=False, kind='linear' )\n",
    "    gr = f( z )\n",
    "    gr = np.ma.masked_where( gr==fill_value, gr )\n",
    "    pbl_height = z[ np.argmin( gr ) ] / 1000\n",
    "    timesplit = times[ifile].split(\"-\")\n",
    "    dtime = datetime( int(timesplit[0]), int(timesplit[1]), int(timesplit[2]), \n",
    "                     int(timesplit[3]), int(timesplit[4]) )\n",
    "    pbl_heights.append( pbl_height )\n",
    "    dtimes.append( dtime )\n",
    "    ltimes.append( localtimes[ifile] )\n",
    "    \n",
    "pbl_heights = np.array( pbl_heights ).flatten()\n",
    "ltimes = np.array( ltimes )"
   ]
  },
  {
   "cell_type": "markdown",
   "id": "1083667e",
   "metadata": {},
   "source": [
    "### Generate plot"
   ]
  },
  {
   "cell_type": "code",
   "execution_count": null,
   "id": "5e1ba8c2",
   "metadata": {},
   "outputs": [],
   "source": [
    "axeslinewidth = 0.5 \n",
    "plt.rcParams.update( {\n",
    "  'font.family': \"Times New Roman\", \n",
    "  'font.size': 8,  \n",
    "  'font.weight': \"normal\", \n",
    "  'text.usetex': True, \n",
    "  'xtick.major.width': axeslinewidth, \n",
    "  'xtick.minor.width': axeslinewidth, \n",
    "  'ytick.major.width': axeslinewidth, \n",
    "  'ytick.minor.width': axeslinewidth, \n",
    "  'axes.linewidth': axeslinewidth } ) \n",
    "\n",
    "plt.clf()\n",
    "fig = plt.figure( figsize=(6,4) )\n",
    "ax = fig.add_axes( [0.10, 0.12, 0.87, 0.80 ] )\n",
    "\n",
    "ax.set_xlim( 0, 24 )\n",
    "ax.set_xticks( np.arange(0,24.1,6) )\n",
    "ax.xaxis.set_minor_locator( MultipleLocator(1) )\n",
    "ax.set_xlabel( \"Local time [hrs]\")\n",
    "\n",
    "ax.set_ylim( 0, 2 )\n",
    "ax.set_yticks( np.arange(0,3.01,0.5) )\n",
    "ax.yaxis.set_minor_locator( MultipleLocator(0.1) )\n",
    "ax.set_ylabel( \"PBL height [km]\")\n",
    "\n",
    "ax.scatter( ltimes, pbl_heights, s=0.2, color=\"k\" )\n",
    "\n",
    "plt.show()"
   ]
  },
  {
   "cell_type": "code",
   "execution_count": null,
   "id": "1edf9150",
   "metadata": {},
   "outputs": [],
   "source": []
  }
 ],
 "metadata": {
  "kernelspec": {
   "display_name": "my_environment",
   "language": "python",
   "name": "python3"
  },
  "language_info": {
   "codemirror_mode": {
    "name": "ipython",
    "version": 3
   },
   "file_extension": ".py",
   "mimetype": "text/x-python",
   "name": "python",
   "nbconvert_exporter": "python",
   "pygments_lexer": "ipython3",
   "version": "3.8.10"
  }
 },
 "nbformat": 4,
 "nbformat_minor": 5
}
